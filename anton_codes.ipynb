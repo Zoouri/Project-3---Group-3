{
 "cells": [
  {
   "cell_type": "code",
   "execution_count": 2,
   "metadata": {},
   "outputs": [],
   "source": [
    "import sqlalchemy\n",
    "from sqlalchemy import create_engine, text, func\n",
    "from sqlalchemy import Column, Integer, String, Float\n",
    "from sqlalchemy.ext.declarative import declarative_base\n",
    "from sqlalchemy.orm import Session\n"
   ]
  },
  {
   "cell_type": "code",
   "execution_count": 6,
   "metadata": {},
   "outputs": [],
   "source": [
    "db_path = 'Resources/fitness.sqlite'\n",
    "engine = create_engine (f'sqlite:///{db_path}')\n",
    "conn = engine.connect()"
   ]
  },
  {
   "cell_type": "code",
   "execution_count": 7,
   "metadata": {},
   "outputs": [
    {
     "data": {
      "text/plain": [
       "['fitness']"
      ]
     },
     "execution_count": 7,
     "metadata": {},
     "output_type": "execute_result"
    }
   ],
   "source": [
    "from sqlalchemy import inspect\n",
    "inspector = inspect(engine)\n",
    "inspector.get_table_names()"
   ]
  },
  {
   "cell_type": "code",
   "execution_count": 8,
   "metadata": {},
   "outputs": [
    {
     "name": "stdout",
     "output_type": "stream",
     "text": [
      "id NUMERIC\n",
      "exercise VARCHAR(250)\n",
      "calories_burnt DECIMAL(10, 2)\n",
      "dream_weight DECIMAL(10, 2)\n",
      "actual_weight DECIMAL(10, 2)\n",
      "age INTEGER\n",
      "gender VARCHAR(250)\n",
      "duration INTEGER\n",
      "heart_rate INTEGER\n",
      "bmi DECIMAL(10, 2)\n",
      "weather_conditions VARCHAR(250)\n",
      "exercise_intensity INTEGER\n"
     ]
    }
   ],
   "source": [
    "columns = inspector.get_columns('fitness')\n",
    "for x in columns:\n",
    "    print(x['name'],x['type'])"
   ]
  }
 ],
 "metadata": {
  "kernelspec": {
   "display_name": "bootcamp",
   "language": "python",
   "name": "python3"
  },
  "language_info": {
   "codemirror_mode": {
    "name": "ipython",
    "version": 3
   },
   "file_extension": ".py",
   "mimetype": "text/x-python",
   "name": "python",
   "nbconvert_exporter": "python",
   "pygments_lexer": "ipython3",
   "version": "3.10.13"
  }
 },
 "nbformat": 4,
 "nbformat_minor": 2
}
